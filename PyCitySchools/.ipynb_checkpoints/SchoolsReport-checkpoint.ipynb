{
 "cells": [
  {
   "cell_type": "code",
   "execution_count": 1254,
   "id": "18262660",
   "metadata": {},
   "outputs": [],
   "source": [
    "import pandas as pd\n",
    "from pathlib import Path"
   ]
  },
  {
   "cell_type": "code",
   "execution_count": 1255,
   "id": "2c20f4d1",
   "metadata": {},
   "outputs": [],
   "source": [
    "scho_file = Path(\"C:/Users/CassandraTamora/Desktop/hello/pandas-challenge/PyCitySchools/Resources/schools_complete.csv\")\n",
    "stu_file = Path(\"C:/Users/CassandraTamora/Desktop/hello/pandas-challenge/PyCitySchools/Resources/students_complete.csv\")\n",
    "\n",
    "stu_df = pd.read_csv(stu_file)\n",
    "scho_df = pd.read_csv(scho_file)\n",
    "\n",
    "stuscho_df = pd.merge(stu_df, scho_df, on=\"school_name\", how=\"left\")\n",
    "stuscho_df.head()\n",
    "\n",
    "school_data_complete = stuscho_df"
   ]
  },
  {
   "cell_type": "code",
   "execution_count": 1256,
   "id": "3f918620",
   "metadata": {},
   "outputs": [
    {
     "data": {
      "text/plain": [
       "15"
      ]
     },
     "execution_count": 1256,
     "metadata": {},
     "output_type": "execute_result"
    }
   ],
   "source": [
    "total_schools = len(stuscho_df[\"school_name\"].unique())\n",
    "total_schools"
   ]
  },
  {
   "cell_type": "code",
   "execution_count": 1257,
   "id": "f94774b8",
   "metadata": {},
   "outputs": [
    {
     "data": {
      "text/plain": [
       "39170"
      ]
     },
     "execution_count": 1257,
     "metadata": {},
     "output_type": "execute_result"
    }
   ],
   "source": [
    "total_stu = len(stuscho_df)\n",
    "total_stu"
   ]
  },
  {
   "cell_type": "code",
   "execution_count": 1258,
   "id": "88525b75",
   "metadata": {},
   "outputs": [
    {
     "data": {
      "text/plain": [
       "24649428"
      ]
     },
     "execution_count": 1258,
     "metadata": {},
     "output_type": "execute_result"
    }
   ],
   "source": [
    "total_budget = (stuscho_df[\"budget\"].unique()).sum()\n",
    "total_budget"
   ]
  },
  {
   "cell_type": "code",
   "execution_count": 1259,
   "id": "bdeec955",
   "metadata": {},
   "outputs": [
    {
     "data": {
      "text/plain": [
       "78.98537145774827"
      ]
     },
     "execution_count": 1259,
     "metadata": {},
     "output_type": "execute_result"
    }
   ],
   "source": [
    "avg_math = stuscho_df[\"math_score\"].mean()\n",
    "avg_math"
   ]
  },
  {
   "cell_type": "code",
   "execution_count": 1260,
   "id": "f54f41aa",
   "metadata": {},
   "outputs": [
    {
     "data": {
      "text/plain": [
       "81.87784018381414"
      ]
     },
     "execution_count": 1260,
     "metadata": {},
     "output_type": "execute_result"
    }
   ],
   "source": [
    "avg_read = stuscho_df[\"reading_score\"].mean()\n",
    "avg_read"
   ]
  },
  {
   "cell_type": "code",
   "execution_count": 1261,
   "id": "30387b62",
   "metadata": {},
   "outputs": [
    {
     "data": {
      "text/plain": [
       "74.9808526933878"
      ]
     },
     "execution_count": 1261,
     "metadata": {},
     "output_type": "execute_result"
    }
   ],
   "source": [
    "passing_math_count = stuscho_df[(stuscho_df[\"math_score\"] >= 70)].count()[\"student_name\"]\n",
    "passing_math_percentage = passing_math_count / float(total_stu) * 100\n",
    "passing_math_percentage"
   ]
  },
  {
   "cell_type": "code",
   "execution_count": 1262,
   "id": "fa972bdf",
   "metadata": {},
   "outputs": [
    {
     "data": {
      "text/plain": [
       "85.80546336482001"
      ]
     },
     "execution_count": 1262,
     "metadata": {},
     "output_type": "execute_result"
    }
   ],
   "source": [
    "passing_reading_count = stuscho_df[(stuscho_df[\"reading_score\"] >= 70)].count()[\"student_name\"]\n",
    "passing_reading_percentage = passing_reading_count / float(total_stu) * 100\n",
    "passing_reading_percentage"
   ]
  },
  {
   "cell_type": "code",
   "execution_count": 1263,
   "id": "200784b3",
   "metadata": {},
   "outputs": [
    {
     "data": {
      "text/plain": [
       "65.17232575950983"
      ]
     },
     "execution_count": 1263,
     "metadata": {},
     "output_type": "execute_result"
    }
   ],
   "source": [
    "passing_math_reading_count = stuscho_df[\n",
    "    (stuscho_df[\"math_score\"] >= 70) & (stuscho_df[\"reading_score\"] >= 70)\n",
    "].count()[\"student_name\"]\n",
    "overall_passing_rate = passing_math_reading_count /  float(total_stu) * 100\n",
    "overall_passing_rate"
   ]
  },
  {
   "cell_type": "code",
   "execution_count": 1264,
   "id": "5851889b",
   "metadata": {},
   "outputs": [
    {
     "data": {
      "text/html": [
       "<div>\n",
       "<style scoped>\n",
       "    .dataframe tbody tr th:only-of-type {\n",
       "        vertical-align: middle;\n",
       "    }\n",
       "\n",
       "    .dataframe tbody tr th {\n",
       "        vertical-align: top;\n",
       "    }\n",
       "\n",
       "    .dataframe thead th {\n",
       "        text-align: right;\n",
       "    }\n",
       "</style>\n",
       "<table border=\"1\" class=\"dataframe\">\n",
       "  <thead>\n",
       "    <tr style=\"text-align: right;\">\n",
       "      <th></th>\n",
       "      <th>Total Schools</th>\n",
       "      <th>Total Students</th>\n",
       "      <th>Total Budget</th>\n",
       "      <th>Average Math Score</th>\n",
       "      <th>Average Reading Score</th>\n",
       "      <th>% Passing Math</th>\n",
       "      <th>% Passing Reading</th>\n",
       "      <th>%Overall Passing</th>\n",
       "    </tr>\n",
       "  </thead>\n",
       "  <tbody>\n",
       "    <tr>\n",
       "      <th>0</th>\n",
       "      <td>15</td>\n",
       "      <td>39,170</td>\n",
       "      <td>$24,649,428.00</td>\n",
       "      <td>78.985371</td>\n",
       "      <td>81.87784</td>\n",
       "      <td>74.980853</td>\n",
       "      <td>85.805463</td>\n",
       "      <td>65.172326</td>\n",
       "    </tr>\n",
       "  </tbody>\n",
       "</table>\n",
       "</div>"
      ],
      "text/plain": [
       "   Total Schools Total Students    Total Budget  Average Math Score  \\\n",
       "0             15         39,170  $24,649,428.00           78.985371   \n",
       "\n",
       "   Average Reading Score  % Passing Math  % Passing Reading  %Overall Passing  \n",
       "0               81.87784       74.980853          85.805463         65.172326  "
      ]
     },
     "execution_count": 1264,
     "metadata": {},
     "output_type": "execute_result"
    }
   ],
   "source": [
    "# Create a high-level snapshot of the district's key metrics in a DataFrame\n",
    "#district_list = [total_schools, total_stu, total_budget, avg_math, avg_read,passing_math_percentage, passing_reading_percentage,overall_passing_rate]\n",
    "district_summary = pd.DataFrame([{\"Total Schools\":total_schools,\"Total Students\":total_stu,\"Total Budget\":total_budget,\n",
    "                                 \"Average Math Score\":avg_math,\"Average Reading Score\":avg_read,\"% Passing Math\":passing_math_percentage,\n",
    "                                 \"% Passing Reading\":passing_reading_percentage, \"%Overall Passing\":overall_passing_rate}])\n",
    "\n",
    "# Formatting\n",
    "district_summary[\"Total Students\"] = district_summary[\"Total Students\"].map(\"{:,}\".format)\n",
    "district_summary[\"Total Budget\"] = district_summary[\"Total Budget\"].map(\"${:,.2f}\".format)\n",
    "\n",
    "# Display the DataFrame\n",
    "district_summary"
   ]
  },
  {
   "cell_type": "code",
   "execution_count": 1265,
   "id": "989ecaf5",
   "metadata": {},
   "outputs": [
    {
     "data": {
      "text/plain": [
       "array(['District', 'Charter'], dtype=object)"
      ]
     },
     "execution_count": 1265,
     "metadata": {},
     "output_type": "execute_result"
    }
   ],
   "source": [
    "school_types = stuscho_df[\"type\"].unique()\n",
    "school_types"
   ]
  },
  {
   "cell_type": "code",
   "execution_count": 1266,
   "id": "72924a59",
   "metadata": {},
   "outputs": [
    {
     "data": {
      "text/plain": [
       "[2917,\n",
       " 2949,\n",
       " 1761,\n",
       " 4635,\n",
       " 1468,\n",
       " 2283,\n",
       " 1858,\n",
       " 4976,\n",
       " 427,\n",
       " 962,\n",
       " 1800,\n",
       " 3999,\n",
       " 4761,\n",
       " 2739,\n",
       " 1635]"
      ]
     },
     "execution_count": 1266,
     "metadata": {},
     "output_type": "execute_result"
    }
   ],
   "source": [
    "# Calculate the total student count per school\n",
    "psc_df = stuscho_df.set_index(\"school_name\")\n",
    "per_school_counts = [len(psc_df.loc[\"Huang High School\"]), len(psc_df.loc[\"Figueroa High School\"]),\n",
    "                    len(psc_df.loc[\"Shelton High School\"]),len(psc_df.loc['Hernandez High School']),\n",
    "                    len(psc_df.loc['Griffin High School']),len(psc_df.loc['Wilson High School']),\n",
    "                    len(psc_df.loc['Cabrera High School']),len(psc_df.loc['Bailey High School']),\n",
    "                    len(psc_df.loc['Holden High School']),len(psc_df.loc['Pena High School']),\n",
    "                    len(psc_df.loc['Wright High School']),len(psc_df.loc['Rodriguez High School']),\n",
    "                    len(psc_df.loc['Johnson High School']),len(psc_df.loc['Ford High School']),\n",
    "                    len(psc_df.loc['Thomas High School'])]                    \n",
    "per_school_counts"
   ]
  },
  {
   "cell_type": "code",
   "execution_count": 1267,
   "id": "829226b9",
   "metadata": {},
   "outputs": [
    {
     "data": {
      "text/html": [
       "<div>\n",
       "<style scoped>\n",
       "    .dataframe tbody tr th:only-of-type {\n",
       "        vertical-align: middle;\n",
       "    }\n",
       "\n",
       "    .dataframe tbody tr th {\n",
       "        vertical-align: top;\n",
       "    }\n",
       "\n",
       "    .dataframe thead th {\n",
       "        text-align: right;\n",
       "    }\n",
       "</style>\n",
       "<table border=\"1\" class=\"dataframe\">\n",
       "  <thead>\n",
       "    <tr style=\"text-align: right;\">\n",
       "      <th></th>\n",
       "      <th>Student ID</th>\n",
       "      <th>student_name</th>\n",
       "      <th>gender</th>\n",
       "      <th>grade</th>\n",
       "      <th>reading_score</th>\n",
       "      <th>math_score</th>\n",
       "      <th>School ID</th>\n",
       "      <th>type</th>\n",
       "      <th>size</th>\n",
       "      <th>budget</th>\n",
       "    </tr>\n",
       "  </thead>\n",
       "  <tbody>\n",
       "    <tr>\n",
       "      <th>Huang High School</th>\n",
       "      <td>0</td>\n",
       "      <td>Paul Bradley</td>\n",
       "      <td>M</td>\n",
       "      <td>9th</td>\n",
       "      <td>66</td>\n",
       "      <td>79</td>\n",
       "      <td>0</td>\n",
       "      <td>District</td>\n",
       "      <td>2917</td>\n",
       "      <td>1910635</td>\n",
       "    </tr>\n",
       "    <tr>\n",
       "      <th>Huang High School</th>\n",
       "      <td>1</td>\n",
       "      <td>Victor Smith</td>\n",
       "      <td>M</td>\n",
       "      <td>12th</td>\n",
       "      <td>94</td>\n",
       "      <td>61</td>\n",
       "      <td>0</td>\n",
       "      <td>District</td>\n",
       "      <td>2917</td>\n",
       "      <td>1910635</td>\n",
       "    </tr>\n",
       "    <tr>\n",
       "      <th>Huang High School</th>\n",
       "      <td>2</td>\n",
       "      <td>Kevin Rodriguez</td>\n",
       "      <td>M</td>\n",
       "      <td>12th</td>\n",
       "      <td>90</td>\n",
       "      <td>60</td>\n",
       "      <td>0</td>\n",
       "      <td>District</td>\n",
       "      <td>2917</td>\n",
       "      <td>1910635</td>\n",
       "    </tr>\n",
       "    <tr>\n",
       "      <th>Huang High School</th>\n",
       "      <td>3</td>\n",
       "      <td>Dr. Richard Scott</td>\n",
       "      <td>M</td>\n",
       "      <td>12th</td>\n",
       "      <td>67</td>\n",
       "      <td>58</td>\n",
       "      <td>0</td>\n",
       "      <td>District</td>\n",
       "      <td>2917</td>\n",
       "      <td>1910635</td>\n",
       "    </tr>\n",
       "    <tr>\n",
       "      <th>Huang High School</th>\n",
       "      <td>4</td>\n",
       "      <td>Bonnie Ray</td>\n",
       "      <td>F</td>\n",
       "      <td>9th</td>\n",
       "      <td>97</td>\n",
       "      <td>84</td>\n",
       "      <td>0</td>\n",
       "      <td>District</td>\n",
       "      <td>2917</td>\n",
       "      <td>1910635</td>\n",
       "    </tr>\n",
       "  </tbody>\n",
       "</table>\n",
       "</div>"
      ],
      "text/plain": [
       "                   Student ID       student_name gender grade  reading_score  \\\n",
       "Huang High School           0       Paul Bradley      M   9th             66   \n",
       "Huang High School           1       Victor Smith      M  12th             94   \n",
       "Huang High School           2    Kevin Rodriguez      M  12th             90   \n",
       "Huang High School           3  Dr. Richard Scott      M  12th             67   \n",
       "Huang High School           4         Bonnie Ray      F   9th             97   \n",
       "\n",
       "                   math_score  School ID      type  size   budget  \n",
       "Huang High School          79          0  District  2917  1910635  \n",
       "Huang High School          61          0  District  2917  1910635  \n",
       "Huang High School          60          0  District  2917  1910635  \n",
       "Huang High School          58          0  District  2917  1910635  \n",
       "Huang High School          84          0  District  2917  1910635  "
      ]
     },
     "execution_count": 1267,
     "metadata": {},
     "output_type": "execute_result"
    }
   ],
   "source": [
    "\n",
    "psc_df.index.name = None\n",
    "psc_df.head()"
   ]
  },
  {
   "cell_type": "code",
   "execution_count": 1268,
   "id": "1b8fc307",
   "metadata": {},
   "outputs": [
    {
     "data": {
      "text/plain": [
       "[array([1910635, 1884411, 1056600, 3022020,  917500, 1319574, 1081356,\n",
       "        3124928,  248087,  585858, 1049400, 2547363, 3094650, 1763916,\n",
       "        1043130], dtype=int64)]"
      ]
     },
     "execution_count": 1268,
     "metadata": {},
     "output_type": "execute_result"
    }
   ],
   "source": [
    "per_school_budget = [stuscho_df[\"budget\"].unique()]\n",
    "per_school_budget"
   ]
  },
  {
   "cell_type": "code",
   "execution_count": 1269,
   "id": "ceffd651",
   "metadata": {},
   "outputs": [
    {
     "data": {
      "text/plain": [
       "[array([655., 639., 600., 652., 625., 578., 582., 628., 581., 609., 583.,\n",
       "        637., 650., 644., 638.])]"
      ]
     },
     "execution_count": 1269,
     "metadata": {},
     "output_type": "execute_result"
    }
   ],
   "source": [
    "per_school_capita = [((stuscho_df[\"budget\"].unique())/(stuscho_df[\"size\"].unique()))]\n",
    "per_school_capita"
   ]
  },
  {
   "cell_type": "code",
   "execution_count": 1270,
   "id": "54280f47",
   "metadata": {},
   "outputs": [
    {
     "data": {
      "text/plain": [
       "[76.62941378128214,\n",
       " 76.71176670057646,\n",
       " 83.3594548551959,\n",
       " 77.28975188781014,\n",
       " 83.35149863760218,\n",
       " 83.2742006132282,\n",
       " 83.06189451022605,\n",
       " 77.04843247588424,\n",
       " 83.80327868852459,\n",
       " 83.83991683991684,\n",
       " 83.68222222222222,\n",
       " 76.84271067766942,\n",
       " 77.07246376811594,\n",
       " 77.10259218692954,\n",
       " 83.4183486238532]"
      ]
     },
     "execution_count": 1270,
     "metadata": {},
     "output_type": "execute_result"
    }
   ],
   "source": [
    "# Calculate the average test scores per school\n",
    "per_school_math = [psc_df.loc[\"Huang High School\",\"math_score\"].mean(), psc_df.loc[\"Figueroa High School\",\"math_score\"].mean(),\n",
    "                    psc_df.loc[\"Shelton High School\",\"math_score\"].mean(),psc_df.loc['Hernandez High School',\"math_score\"].mean(),\n",
    "                    psc_df.loc['Griffin High School',\"math_score\"].mean(),psc_df.loc['Wilson High School',\"math_score\"].mean(),\n",
    "                    psc_df.loc['Cabrera High School',\"math_score\"].mean(),psc_df.loc['Bailey High School',\"math_score\"].mean(),\n",
    "                    psc_df.loc['Holden High School',\"math_score\"].mean(),psc_df.loc['Pena High School',\"math_score\"].mean(),\n",
    "                    psc_df.loc['Wright High School',\"math_score\"].mean(),psc_df.loc['Rodriguez High School',\"math_score\"].mean(),\n",
    "                    psc_df.loc['Johnson High School',\"math_score\"].mean(),psc_df.loc['Ford High School',\"math_score\"].mean(),\n",
    "                    psc_df.loc['Thomas High School',\"math_score\"].mean()] \n",
    "per_school_math"
   ]
  },
  {
   "cell_type": "code",
   "execution_count": 1271,
   "id": "e931d6c7",
   "metadata": {},
   "outputs": [
    {
     "data": {
      "text/plain": [
       "[81.18272197463148,\n",
       " 81.15801966768396,\n",
       " 83.72572402044293,\n",
       " 80.9344120819849,\n",
       " 83.816757493188,\n",
       " 83.98948751642575,\n",
       " 83.97578040904197,\n",
       " 81.03396302250803,\n",
       " 83.81498829039812,\n",
       " 84.04469854469855,\n",
       " 83.955,\n",
       " 80.74468617154288,\n",
       " 80.96639361478681,\n",
       " 80.74625775830594,\n",
       " 83.84892966360856]"
      ]
     },
     "execution_count": 1271,
     "metadata": {},
     "output_type": "execute_result"
    }
   ],
   "source": [
    "per_school_reading = [psc_df.loc[\"Huang High School\",\"reading_score\"].mean(), psc_df.loc[\"Figueroa High School\",\"reading_score\"].mean(),\n",
    "                    psc_df.loc[\"Shelton High School\",\"reading_score\"].mean(),psc_df.loc['Hernandez High School',\"reading_score\"].mean(),\n",
    "                    psc_df.loc['Griffin High School',\"reading_score\"].mean(),psc_df.loc['Wilson High School',\"reading_score\"].mean(),\n",
    "                    psc_df.loc['Cabrera High School',\"reading_score\"].mean(),psc_df.loc['Bailey High School',\"reading_score\"].mean(),\n",
    "                    psc_df.loc['Holden High School',\"reading_score\"].mean(),psc_df.loc['Pena High School',\"reading_score\"].mean(),\n",
    "                    psc_df.loc['Wright High School',\"reading_score\"].mean(),psc_df.loc['Rodriguez High School',\"reading_score\"].mean(),\n",
    "                    psc_df.loc['Johnson High School',\"reading_score\"].mean(),psc_df.loc['Ford High School',\"reading_score\"].mean(),\n",
    "                    psc_df.loc['Thomas High School',\"reading_score\"].mean()] \n",
    "per_school_reading"
   ]
  },
  {
   "cell_type": "code",
   "execution_count": 1272,
   "id": "95588150",
   "metadata": {},
   "outputs": [
    {
     "data": {
      "text/plain": [
       "school_name\n",
       "Bailey High School       77.048432\n",
       "Cabrera High School      83.061895\n",
       "Figueroa High School     76.711767\n",
       "Ford High School         77.102592\n",
       "Griffin High School      83.351499\n",
       "Hernandez High School    77.289752\n",
       "Holden High School       83.803279\n",
       "Huang High School        76.629414\n",
       "Johnson High School      77.072464\n",
       "Pena High School         83.839917\n",
       "Rodriguez High School    76.842711\n",
       "Shelton High School      83.359455\n",
       "Thomas High School       83.418349\n",
       "Wilson High School       83.274201\n",
       "Wright High School       83.682222\n",
       "Name: math_score, dtype: float64"
      ]
     },
     "execution_count": 1272,
     "metadata": {},
     "output_type": "execute_result"
    }
   ],
   "source": [
    "#hmm. Okay. Well. \n",
    "scores_df = stuscho_df.groupby([\"school_name\"])\n",
    "scores_df[\"math_score\"].mean()"
   ]
  },
  {
   "cell_type": "code",
   "execution_count": 1273,
   "id": "08e692b9",
   "metadata": {},
   "outputs": [
    {
     "data": {
      "text/plain": [
       "[school_name\n",
       " Bailey High School       4976\n",
       " Johnson High School      4761\n",
       " Hernandez High School    4635\n",
       " Rodriguez High School    3999\n",
       " Figueroa High School     2949\n",
       " Huang High School        2917\n",
       " Ford High School         2739\n",
       " Wilson High School       2283\n",
       " Cabrera High School      1858\n",
       " Wright High School       1800\n",
       " Shelton High School      1761\n",
       " Thomas High School       1635\n",
       " Griffin High School      1468\n",
       " Pena High School          962\n",
       " Holden High School        427\n",
       " Name: count, dtype: int64]"
      ]
     },
     "execution_count": 1273,
     "metadata": {},
     "output_type": "execute_result"
    }
   ],
   "source": [
    "per_school_counts = [stuscho_df.value_counts(\"school_name\")]                 \n",
    "per_school_counts"
   ]
  },
  {
   "cell_type": "code",
   "execution_count": 1274,
   "id": "f122ba6d",
   "metadata": {},
   "outputs": [
    {
     "data": {
      "text/plain": [
       "[school_name\n",
       " Bailey High School       3318\n",
       " Johnson High School      3145\n",
       " Hernandez High School    3094\n",
       " Rodriguez High School    2654\n",
       " Wilson High School       2143\n",
       " Figueroa High School     1946\n",
       " Huang High School        1916\n",
       " Ford High School         1871\n",
       " Cabrera High School      1749\n",
       " Wright High School       1680\n",
       " Shelton High School      1653\n",
       " Thomas High School       1525\n",
       " Griffin High School      1371\n",
       " Pena High School          910\n",
       " Holden High School        395\n",
       " Name: count, dtype: int64]"
      ]
     },
     "execution_count": 1274,
     "metadata": {},
     "output_type": "execute_result"
    }
   ],
   "source": [
    "pass_math_df = stuscho_df.loc[stuscho_df[\"math_score\"]>=70]\n",
    "#pass_math_df.head()\n",
    "school_students_passing_math = [pass_math_df.value_counts(\"school_name\")]\n",
    "school_students_passing_math"
   ]
  },
  {
   "cell_type": "code",
   "execution_count": 1275,
   "id": "f099b8e6",
   "metadata": {},
   "outputs": [
    {
     "data": {
      "text/plain": [
       "school_name\n",
       "Bailey High School      77.083676\n",
       "Cabrera High School     83.094697\n",
       "Figueroa High School    76.403037\n",
       "Ford High School        77.361345\n",
       "Griffin High School     82.044010\n",
       "Name: math_score, dtype: float64"
      ]
     },
     "execution_count": 1275,
     "metadata": {},
     "output_type": "execute_result"
    }
   ],
   "source": [
    "ninth_graders = stuscho_df[(stuscho_df[\"grade\"] == \"9th\")]\n",
    "ninth_grade_math_scores = (ninth_graders.groupby([\"school_name\"])[\"math_score\"]).mean()\n",
    "ninth_grade_math_scores.head()"
   ]
  },
  {
   "cell_type": "code",
   "execution_count": 1276,
   "id": "6795a641",
   "metadata": {},
   "outputs": [
    {
     "data": {
      "text/html": [
       "<div>\n",
       "<style scoped>\n",
       "    .dataframe tbody tr th:only-of-type {\n",
       "        vertical-align: middle;\n",
       "    }\n",
       "\n",
       "    .dataframe tbody tr th {\n",
       "        vertical-align: top;\n",
       "    }\n",
       "\n",
       "    .dataframe thead th {\n",
       "        text-align: right;\n",
       "    }\n",
       "</style>\n",
       "<table border=\"1\" class=\"dataframe\">\n",
       "  <thead>\n",
       "    <tr style=\"text-align: right;\">\n",
       "      <th></th>\n",
       "      <th>9th</th>\n",
       "      <th>10th</th>\n",
       "      <th>11th</th>\n",
       "      <th>12th</th>\n",
       "    </tr>\n",
       "    <tr>\n",
       "      <th>school_name</th>\n",
       "      <th></th>\n",
       "      <th></th>\n",
       "      <th></th>\n",
       "      <th></th>\n",
       "    </tr>\n",
       "  </thead>\n",
       "  <tbody>\n",
       "    <tr>\n",
       "      <th>Bailey High School</th>\n",
       "      <td>77.083676</td>\n",
       "      <td>76.996772</td>\n",
       "      <td>77.515588</td>\n",
       "      <td>76.492218</td>\n",
       "    </tr>\n",
       "    <tr>\n",
       "      <th>Cabrera High School</th>\n",
       "      <td>83.094697</td>\n",
       "      <td>83.154506</td>\n",
       "      <td>82.765560</td>\n",
       "      <td>83.277487</td>\n",
       "    </tr>\n",
       "    <tr>\n",
       "      <th>Figueroa High School</th>\n",
       "      <td>76.403037</td>\n",
       "      <td>76.539974</td>\n",
       "      <td>76.884344</td>\n",
       "      <td>77.151369</td>\n",
       "    </tr>\n",
       "    <tr>\n",
       "      <th>Ford High School</th>\n",
       "      <td>77.361345</td>\n",
       "      <td>77.672316</td>\n",
       "      <td>76.918058</td>\n",
       "      <td>76.179963</td>\n",
       "    </tr>\n",
       "    <tr>\n",
       "      <th>Griffin High School</th>\n",
       "      <td>82.044010</td>\n",
       "      <td>84.229064</td>\n",
       "      <td>83.842105</td>\n",
       "      <td>83.356164</td>\n",
       "    </tr>\n",
       "    <tr>\n",
       "      <th>Hernandez High School</th>\n",
       "      <td>77.438495</td>\n",
       "      <td>77.337408</td>\n",
       "      <td>77.136029</td>\n",
       "      <td>77.186567</td>\n",
       "    </tr>\n",
       "    <tr>\n",
       "      <th>Holden High School</th>\n",
       "      <td>83.787402</td>\n",
       "      <td>83.429825</td>\n",
       "      <td>85.000000</td>\n",
       "      <td>82.855422</td>\n",
       "    </tr>\n",
       "    <tr>\n",
       "      <th>Huang High School</th>\n",
       "      <td>77.027251</td>\n",
       "      <td>75.908735</td>\n",
       "      <td>76.446602</td>\n",
       "      <td>77.225641</td>\n",
       "    </tr>\n",
       "    <tr>\n",
       "      <th>Johnson High School</th>\n",
       "      <td>77.187857</td>\n",
       "      <td>76.691117</td>\n",
       "      <td>77.491653</td>\n",
       "      <td>76.863248</td>\n",
       "    </tr>\n",
       "    <tr>\n",
       "      <th>Pena High School</th>\n",
       "      <td>83.625455</td>\n",
       "      <td>83.372000</td>\n",
       "      <td>84.328125</td>\n",
       "      <td>84.121547</td>\n",
       "    </tr>\n",
       "    <tr>\n",
       "      <th>Rodriguez High School</th>\n",
       "      <td>76.859966</td>\n",
       "      <td>76.612500</td>\n",
       "      <td>76.395626</td>\n",
       "      <td>77.690748</td>\n",
       "    </tr>\n",
       "    <tr>\n",
       "      <th>Shelton High School</th>\n",
       "      <td>83.420755</td>\n",
       "      <td>82.917411</td>\n",
       "      <td>83.383495</td>\n",
       "      <td>83.778976</td>\n",
       "    </tr>\n",
       "    <tr>\n",
       "      <th>Thomas High School</th>\n",
       "      <td>83.590022</td>\n",
       "      <td>83.087886</td>\n",
       "      <td>83.498795</td>\n",
       "      <td>83.497041</td>\n",
       "    </tr>\n",
       "    <tr>\n",
       "      <th>Wilson High School</th>\n",
       "      <td>83.085578</td>\n",
       "      <td>83.724422</td>\n",
       "      <td>83.195326</td>\n",
       "      <td>83.035794</td>\n",
       "    </tr>\n",
       "    <tr>\n",
       "      <th>Wright High School</th>\n",
       "      <td>83.264706</td>\n",
       "      <td>84.010288</td>\n",
       "      <td>83.836782</td>\n",
       "      <td>83.644986</td>\n",
       "    </tr>\n",
       "  </tbody>\n",
       "</table>\n",
       "</div>"
      ],
      "text/plain": [
       "                             9th       10th       11th       12th\n",
       "school_name                                                      \n",
       "Bailey High School     77.083676  76.996772  77.515588  76.492218\n",
       "Cabrera High School    83.094697  83.154506  82.765560  83.277487\n",
       "Figueroa High School   76.403037  76.539974  76.884344  77.151369\n",
       "Ford High School       77.361345  77.672316  76.918058  76.179963\n",
       "Griffin High School    82.044010  84.229064  83.842105  83.356164\n",
       "Hernandez High School  77.438495  77.337408  77.136029  77.186567\n",
       "Holden High School     83.787402  83.429825  85.000000  82.855422\n",
       "Huang High School      77.027251  75.908735  76.446602  77.225641\n",
       "Johnson High School    77.187857  76.691117  77.491653  76.863248\n",
       "Pena High School       83.625455  83.372000  84.328125  84.121547\n",
       "Rodriguez High School  76.859966  76.612500  76.395626  77.690748\n",
       "Shelton High School    83.420755  82.917411  83.383495  83.778976\n",
       "Thomas High School     83.590022  83.087886  83.498795  83.497041\n",
       "Wilson High School     83.085578  83.724422  83.195326  83.035794\n",
       "Wright High School     83.264706  84.010288  83.836782  83.644986"
      ]
     },
     "execution_count": 1276,
     "metadata": {},
     "output_type": "execute_result"
    }
   ],
   "source": [
    "# Use the code provided to separate the data by grade\n",
    "ninth_graders = school_data_complete[(school_data_complete[\"grade\"] == \"9th\")]\n",
    "tenth_graders = school_data_complete[(school_data_complete[\"grade\"] == \"10th\")]\n",
    "eleventh_graders = school_data_complete[(school_data_complete[\"grade\"] == \"11th\")]\n",
    "twelfth_graders = school_data_complete[(school_data_complete[\"grade\"] == \"12th\")]\n",
    "\n",
    "# Group by `school_name` and take the mean of the `math_score` column for each.\n",
    "ninth_grade_math_scores = (ninth_graders.groupby([\"school_name\"])[\"math_score\"]).mean()\n",
    "tenth_grader_math_scores = (tenth_graders.groupby([\"school_name\"])[\"math_score\"]).mean()\n",
    "eleventh_grader_math_scores = (eleventh_graders.groupby([\"school_name\"])[\"math_score\"]).mean()\n",
    "twelfth_grader_math_scores = (twelfth_graders.groupby([\"school_name\"])[\"math_score\"]).mean()\n",
    "\n",
    "# Combine each of the scores above into single DataFrame called `math_scores_by_grade`\n",
    "math_scores_by_grade = pd.DataFrame({\"9th\":ninth_grade_math_scores,\n",
    "                                     \"10th\":tenth_grader_math_scores,\"11th\":eleventh_grader_math_scores,\n",
    "                                     \"12th\":twelfth_grader_math_scores})\n",
    "\n",
    "# Minor data wrangling\n",
    "#math_scores_by_grade = math_scores_by_grade(\"School Names\")\n",
    "math_scores_by_grade.index.name = None\n",
    "\n",
    "# Display the DataFrame\n",
    "math_scores_by_grade"
   ]
  }
 ],
 "metadata": {
  "kernelspec": {
   "display_name": "Python 3 (ipykernel)",
   "language": "python",
   "name": "python3"
  },
  "language_info": {
   "codemirror_mode": {
    "name": "ipython",
    "version": 3
   },
   "file_extension": ".py",
   "mimetype": "text/x-python",
   "name": "python",
   "nbconvert_exporter": "python",
   "pygments_lexer": "ipython3",
   "version": "3.10.13"
  }
 },
 "nbformat": 4,
 "nbformat_minor": 5
}
